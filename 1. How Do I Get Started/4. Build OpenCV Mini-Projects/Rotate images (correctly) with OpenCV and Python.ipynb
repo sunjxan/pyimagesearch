{
 "cells": [
  {
   "cell_type": "markdown",
   "metadata": {},
   "source": [
    "### OpenCV的简单旋转问题\n",
    "\n",
    "图像在旋转时会被“剪切”，整个图像不会保留在视场中。"
   ]
  },
  {
   "cell_type": "code",
   "execution_count": 138,
   "metadata": {},
   "outputs": [
    {
     "data": {
      "text/plain": [
       "-1"
      ]
     },
     "execution_count": 138,
     "metadata": {},
     "output_type": "execute_result"
    }
   ],
   "source": [
    "import cv2\n",
    "\n",
    "image = cv2.imread('pill_01.png')\n",
    "(h, w, d) = image.shape\n",
    "\n",
    "center = (w // 2, h // 2)\n",
    "\n",
    "# 以图片中心点为转轴，顺时针旋转45度，放缩比例为1.0，得到旋转矩阵\n",
    "M = cv2.getRotationMatrix2D(center, -45, 1.0)\n",
    "\n",
    "# 将原图片像素坐标按照旋转矩阵做仿射运算，得到旋转后的像素坐标，并指定返回图片显示范围 [0 ~ w, 0 ~ h]\n",
    "rotated = cv2.warpAffine(image, M, (w, h))\n",
    "\n",
    "cv2.imshow(\"OpenCV Rotation\", rotated)\n",
    "cv2.waitKey(0)"
   ]
  },
  {
   "cell_type": "markdown",
   "metadata": {},
   "source": [
    "### 实施不会切断图像的旋转功能"
   ]
  },
  {
   "cell_type": "code",
   "execution_count": 158,
   "metadata": {},
   "outputs": [],
   "source": [
    "import numpy as np\n",
    "\n",
    "def getNewRotationMatrix2D(w, h, center, angle, scale):\n",
    "    M = cv2.getRotationMatrix2D(center, angle, scale)\n",
    "    points = np.array([[0, 0], [w, 0], [0, h], [w, h]]).T\n",
    "    nPoints = np.matmul(M[:, :2], points) + M[:, 2:]\n",
    "    minX = np.min(nPoints[0, :])\n",
    "    maxX = np.max(nPoints[0, :])\n",
    "    minY = np.min(nPoints[1, :])\n",
    "    maxY = np.max(nPoints[1, :])\n",
    "    M[0, 2] -= minX\n",
    "    M[1, 2] -= minY\n",
    "    return M, (int(maxX - minX), int(maxY - minY))"
   ]
  },
  {
   "cell_type": "code",
   "execution_count": 165,
   "metadata": {},
   "outputs": [
    {
     "data": {
      "text/plain": [
       "-1"
      ]
     },
     "execution_count": 165,
     "metadata": {},
     "output_type": "execute_result"
    }
   ],
   "source": [
    "(h, w, d) = image.shape\n",
    "center = (w // 2, h // 2)\n",
    "\n",
    "M, (nW, nH) = getNewRotationMatrix2D(w, h, center, -45, 1.0)\n",
    "rotated = cv2.warpAffine(image, M, (nW, nH))\n",
    "\n",
    "cv2.imshow(\"OpenCV Rotation\", rotated)\n",
    "cv2.waitKey(0)"
   ]
  },
  {
   "cell_type": "markdown",
   "metadata": {},
   "source": [
    "转换为灰度，使其模糊，并应用边缘检测以显示药丸的轮廓："
   ]
  },
  {
   "cell_type": "code",
   "execution_count": 173,
   "metadata": {},
   "outputs": [
    {
     "data": {
      "text/plain": [
       "-1"
      ]
     },
     "execution_count": 173,
     "metadata": {},
     "output_type": "execute_result"
    }
   ],
   "source": [
    "gray = cv2.cvtColor(image, cv2.COLOR_BGR2GRAY)\n",
    "gray = cv2.GaussianBlur(gray, (3, 3), 0)\n",
    "edged = cv2.Canny(gray, 20, 100)\n",
    "\n",
    "cv2.imshow(\"edged\", edged)\n",
    "cv2.waitKey(0)"
   ]
  },
  {
   "cell_type": "markdown",
   "metadata": {},
   "source": [
    "应用轮廓检测来找到药丸的轮廓："
   ]
  },
  {
   "cell_type": "code",
   "execution_count": 174,
   "metadata": {},
   "outputs": [],
   "source": [
    "cnts = cv2.findContours(edged.copy(), cv2.RETR_EXTERNAL, cv2.CHAIN_APPROX_SIMPLE)"
   ]
  },
  {
   "cell_type": "markdown",
   "metadata": {},
   "source": [
    "从图像中提取药丸的ROI："
   ]
  },
  {
   "cell_type": "code",
   "execution_count": 186,
   "metadata": {},
   "outputs": [
    {
     "data": {
      "text/plain": [
       "-1"
      ]
     },
     "execution_count": 186,
     "metadata": {},
     "output_type": "execute_result"
    }
   ],
   "source": [
    "# 确保至少找到一个轮廓\n",
    "if len(cnts[0]) > 0:\n",
    "    # 抓住最大轮廓，然后为药丸画一个面具\n",
    "    c = max(cnts[0], key=cv2.contourArea)\n",
    "    mask = np.zeros(gray.shape, dtype=\"uint8\")\n",
    "    cv2.drawContours(mask, [c], -1, 255, -1)\n",
    "    \n",
    "    # 计算药丸的边界框，然后提取ROI，并用面具遮盖\n",
    "    (x, y, w, h) = cv2.boundingRect(c)\n",
    "    imageROI = image[y:y + h, x:x + w]\n",
    "    maskROI = mask[y:y + h, x:x + w]\n",
    "    imageROI = cv2.bitwise_and(imageROI, imageROI, mask=maskROI)\n",
    "\n",
    "    cv2.imshow(\"maskROI\", maskROI)\n",
    "    cv2.waitKey(0)\n",
    "    cv2.imshow(\"imageROI\", imageROI)\n",
    "    cv2.waitKey(0)"
   ]
  },
  {
   "cell_type": "markdown",
   "metadata": {},
   "source": [
    "使用两种旋转方式，分别进行360度周转："
   ]
  },
  {
   "cell_type": "code",
   "execution_count": 184,
   "metadata": {},
   "outputs": [],
   "source": [
    "for angle in np.arange(0, 360, 45):\n",
    "    (h, w, d) = imageROI.shape\n",
    "    center = (w // 2, h // 2)\n",
    "    M = cv2.getRotationMatrix2D(center, angle, 1.0)\n",
    "    rotated = cv2.warpAffine(imageROI, M, (w, h))\n",
    "    \n",
    "    cv2.imshow(\"Rotated (Problematic)\", rotated)\n",
    "    cv2.waitKey(0)"
   ]
  },
  {
   "cell_type": "code",
   "execution_count": 188,
   "metadata": {},
   "outputs": [],
   "source": [
    "for angle in np.arange(0, 360, 45):\n",
    "    (h, w, d) = imageROI.shape\n",
    "    center = (w // 2, h // 2)\n",
    "    M, (nW, nH) = getNewRotationMatrix2D(w, h, center, angle, 1.0)\n",
    "    rotated = cv2.warpAffine(imageROI, M, (nW, nH))\n",
    "    \n",
    "    cv2.imshow(\"Rotated (Correct)\", rotated)\n",
    "    cv2.waitKey(0)"
   ]
  }
 ],
 "metadata": {
  "kernelspec": {
   "display_name": "Python 3",
   "language": "python",
   "name": "python3"
  },
  "language_info": {
   "codemirror_mode": {
    "name": "ipython",
    "version": 3
   },
   "file_extension": ".py",
   "mimetype": "text/x-python",
   "name": "python",
   "nbconvert_exporter": "python",
   "pygments_lexer": "ipython3",
   "version": "3.6.9"
  }
 },
 "nbformat": 4,
 "nbformat_minor": 4
}
