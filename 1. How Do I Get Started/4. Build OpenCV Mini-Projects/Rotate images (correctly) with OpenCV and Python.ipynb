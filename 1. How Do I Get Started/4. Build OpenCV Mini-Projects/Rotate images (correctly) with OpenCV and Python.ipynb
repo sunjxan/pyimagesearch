{
 "cells": [
  {
   "cell_type": "markdown",
   "metadata": {},
   "source": [
    "### OpenCV的简单旋转问题\n",
    "\n",
    "图像在旋转时会被“剪切”，整个图像不会保留在视场中。"
   ]
  },
  {
   "cell_type": "code",
   "execution_count": 422,
   "metadata": {},
   "outputs": [],
   "source": [
    "import cv2\n",
    "\n",
    "image = cv2.imread('pill_01.png')\n",
    "(h, w, d) = image.shape\n",
    "\n",
    "center = (w // 2, h // 2)\n",
    "\n",
    "# 以图片中心点为转轴，顺时针旋转45度，放缩比例为1.0，得到旋转矩阵\n",
    "M = cv2.getRotationMatrix2D(center, -45, 1.0)\n",
    "\n",
    "# 将原图片像素坐标按照旋转矩阵做仿射运算，得到旋转后的像素坐标，并指定返回图片显示范围 [0 ~ w, 0 ~ h]\n",
    "rotated = cv2.warpAffine(image, M, (w, h))\n",
    "\n",
    "cv2.imshow(\"OpenCV Rotation\", rotated)\n",
    "cv2.waitKey()\n",
    "cv2.destroyAllWindows()"
   ]
  },
  {
   "cell_type": "markdown",
   "metadata": {},
   "source": [
    "### 实施不会切断图像的旋转功能"
   ]
  },
  {
   "cell_type": "code",
   "execution_count": 423,
   "metadata": {},
   "outputs": [],
   "source": [
    "import numpy as np\n",
    "\n",
    "# 转轴对结果没有影响，不用传参\n",
    "def getNewRotationMatrix2D(w, h, angle, scale):\n",
    "    M = cv2.getRotationMatrix2D((0, 0), angle, scale)\n",
    "    points = np.array([[0, 0], [w, 0], [0, h], [w, h]])\n",
    "    nPoints = (np.matmul(M[:, :2], points.T) + M[:, 2:]).astype(np.int).T\n",
    "    (x, y, w, h) = cv2.boundingRect(nPoints)\n",
    "    M[0, 2] -= x\n",
    "    M[1, 2] -= y\n",
    "    return M, (w, h)\n",
    "\n",
    "(h, w, d) = image.shape\n",
    "\n",
    "M, (nW, nH) = getNewRotationMatrix2D(w, h, -45, 1.0)\n",
    "rotated = cv2.warpAffine(image, M, (nW, nH))\n",
    "\n",
    "cv2.imshow(\"OpenCV Rotation\", rotated)\n",
    "cv2.waitKey()\n",
    "cv2.destroyAllWindows()"
   ]
  },
  {
   "cell_type": "markdown",
   "metadata": {},
   "source": [
    "转换为灰度，使其模糊，并应用边缘检测以显示药丸的轮廓："
   ]
  },
  {
   "cell_type": "code",
   "execution_count": 424,
   "metadata": {},
   "outputs": [],
   "source": [
    "gray = cv2.cvtColor(image, cv2.COLOR_BGR2GRAY)\n",
    "gray = cv2.GaussianBlur(gray, (3, 3), 0)\n",
    "edged = cv2.Canny(gray, 20, 100)\n",
    "\n",
    "cv2.imshow(\"edged\", edged)\n",
    "cv2.waitKey()\n",
    "cv2.destroyAllWindows()"
   ]
  },
  {
   "cell_type": "markdown",
   "metadata": {},
   "source": [
    "应用轮廓检测来找到药丸的轮廓："
   ]
  },
  {
   "cell_type": "code",
   "execution_count": 425,
   "metadata": {},
   "outputs": [],
   "source": [
    "# 轮廓列表\n",
    "cnts = cv2.findContours(edged.copy(), cv2.RETR_EXTERNAL, cv2.CHAIN_APPROX_SIMPLE)\n",
    "# 最大轮廓\n",
    "maxContour = max(cnts[0], key=cv2.contourArea)"
   ]
  },
  {
   "cell_type": "markdown",
   "metadata": {},
   "source": [
    "### 根据最大轮廓展示图像的旋转功能"
   ]
  },
  {
   "cell_type": "code",
   "execution_count": 426,
   "metadata": {},
   "outputs": [],
   "source": [
    "import numpy as np\n",
    "\n",
    "# 转轴对结果没有影响，不用传参\n",
    "def getNew2RotationMatrix2D(contour, angle, scale):\n",
    "    M = cv2.getRotationMatrix2D((0, 0), angle, scale)\n",
    "    contour = contour.squeeze()\n",
    "    nContour = (np.matmul(M[:, :2], contour.T) + M[:, 2:]).astype(np.int).T\n",
    "    (x, y, w, h) = cv2.boundingRect(nContour)\n",
    "    M[0, 2] -= x\n",
    "    M[1, 2] -= y\n",
    "    return M, (w, h)\n",
    "\n",
    "M, (nW, nH) = getNew2RotationMatrix2D(maxContour, -45, 1.0)\n",
    "rotated = cv2.warpAffine(image, M, (nW, nH))\n",
    "\n",
    "cv2.imshow(\"OpenCV Rotation\", rotated)\n",
    "cv2.waitKey()\n",
    "cv2.destroyAllWindows()"
   ]
  },
  {
   "cell_type": "markdown",
   "metadata": {},
   "source": [
    "从图像中提取药丸的ROI："
   ]
  },
  {
   "cell_type": "code",
   "execution_count": 427,
   "metadata": {},
   "outputs": [],
   "source": [
    "# 抓住最大轮廓，然后为药丸画一个面具\n",
    "mask = np.zeros(gray.shape, dtype=\"uint8\")\n",
    "cv2.drawContours(mask, [maxContour], -1, 255, -1)\n",
    "# 计算药丸的边界框，然后提取ROI，并用面具遮盖\n",
    "(x, y, w, h) = cv2.boundingRect(maxContour)\n",
    "imageROI = image[y:y + h, x:x + w]\n",
    "maskROI = mask[y:y + h, x:x + w]\n",
    "imageROI = cv2.bitwise_and(imageROI, imageROI, mask=maskROI)\n",
    "\n",
    "cv2.imshow(\"maskROI\", maskROI)\n",
    "cv2.waitKey()\n",
    "cv2.destroyAllWindows()\n",
    "cv2.imshow(\"imageROI\", imageROI)\n",
    "cv2.waitKey()\n",
    "cv2.destroyAllWindows()"
   ]
  },
  {
   "cell_type": "markdown",
   "metadata": {},
   "source": [
    "### 使用三种旋转方式，分别进行360度周转"
   ]
  },
  {
   "cell_type": "code",
   "execution_count": 428,
   "metadata": {},
   "outputs": [],
   "source": [
    "(h, w, d) = imageROI.shape\n",
    "center = (w // 2, h // 2)\n",
    "    \n",
    "for angle in np.arange(0, 360, 15):\n",
    "    M = cv2.getRotationMatrix2D(center, angle, 1.0)\n",
    "    rotated = cv2.warpAffine(imageROI, M, (w, h))\n",
    "    \n",
    "    cv2.imshow(\"Rotated (Problematic)\", rotated)\n",
    "    cv2.waitKey(100)\n",
    "    \n",
    "cv2.destroyAllWindows()"
   ]
  },
  {
   "cell_type": "code",
   "execution_count": 429,
   "metadata": {},
   "outputs": [],
   "source": [
    "(h, w, d) = imageROI.shape\n",
    "    \n",
    "for angle in np.arange(0, 360, 15):\n",
    "    M, (nW, nH) = getNewRotationMatrix2D(w, h, angle, 1.0)\n",
    "    rotated = cv2.warpAffine(imageROI, M, (nW, nH))\n",
    "    \n",
    "    cv2.imshow(\"Rotated (Correct)\", rotated)\n",
    "    cv2.waitKey(100)\n",
    "\n",
    "cv2.destroyAllWindows()"
   ]
  },
  {
   "cell_type": "code",
   "execution_count": 433,
   "metadata": {},
   "outputs": [],
   "source": [
    "newContour = maxContour.copy()\n",
    "(x, y, w, h) = cv2.boundingRect(newContour)\n",
    "newContour[:, :, 0] -= x\n",
    "newContour[:, :, 1] -= y\n",
    "\n",
    "for angle in np.arange(0, 360, 15):\n",
    "    M, (nW, nH) = getNew2RotationMatrix2D(newContour, angle, 1.0)\n",
    "    rotated = cv2.warpAffine(imageROI, M, (nW, nH))\n",
    "    \n",
    "    cv2.imshow(\"Rotated (Correct)\", rotated)\n",
    "    cv2.waitKey(100)\n",
    "\n",
    "cv2.destroyAllWindows()"
   ]
  }
 ],
 "metadata": {
  "kernelspec": {
   "display_name": "Python 3",
   "language": "python",
   "name": "python3"
  },
  "language_info": {
   "codemirror_mode": {
    "name": "ipython",
    "version": 3
   },
   "file_extension": ".py",
   "mimetype": "text/x-python",
   "name": "python",
   "nbconvert_exporter": "python",
   "pygments_lexer": "ipython3",
   "version": "3.6.9"
  }
 },
 "nbformat": 4,
 "nbformat_minor": 4
}
