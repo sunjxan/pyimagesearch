{
 "cells": [
  {
   "cell_type": "code",
   "execution_count": 6,
   "metadata": {},
   "outputs": [],
   "source": [
    "import cv2\n",
    "import numpy as np\n",
    "\n",
    "image = cv2.imread('color_detection_blue_version.jpg')\n",
    "\n",
    "# 像素区间列表\n",
    "boundaries = [\n",
    "    ([17, 15, 100], [50, 56, 200]),\n",
    "    ([86, 31, 4], [220, 88, 50]),\n",
    "    ([25, 146, 190], [62, 174, 250]),\n",
    "    ([103, 86, 65], [145, 133, 128])\n",
    "]\n",
    "\n",
    "for (lower, upper) in boundaries:\n",
    "    lower = np.array(lower, dtype = \"uint8\")\n",
    "    upper = np.array(upper, dtype = \"uint8\")\n",
    "    \n",
    "    # 根据像素是否在指定边界内，转换为二值图像，作为蒙版\n",
    "    mask = cv2.inRange(image, lower, upper)\n",
    "    output = cv2.bitwise_and(image, image, mask = mask)\n",
    "\n",
    "    cv2.imshow(\"images\", np.hstack([image, output]))\n",
    "    cv2.waitKey(500)\n",
    "\n",
    "cv2.destroyAllWindows()"
   ]
  }
 ],
 "metadata": {
  "kernelspec": {
   "display_name": "Python 3",
   "language": "python",
   "name": "python3"
  },
  "language_info": {
   "codemirror_mode": {
    "name": "ipython",
    "version": 3
   },
   "file_extension": ".py",
   "mimetype": "text/x-python",
   "name": "python",
   "nbconvert_exporter": "python",
   "pygments_lexer": "ipython3",
   "version": "3.6.9"
  }
 },
 "nbformat": 4,
 "nbformat_minor": 4
}
