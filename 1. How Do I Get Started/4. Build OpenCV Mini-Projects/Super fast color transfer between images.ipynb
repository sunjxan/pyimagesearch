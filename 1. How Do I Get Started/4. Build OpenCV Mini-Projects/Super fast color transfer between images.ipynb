{
 "cells": [
  {
   "cell_type": "markdown",
   "metadata": {},
   "source": [
    "# 颜色转移算法\n",
    "\n",
    "我对颜色转移的实现（宽松地）是基于 Reinhard等人（2001年）[*在“图像之间的颜色转移”*](http://www.thegooch.org/Publications/PDFs/ColorTransfer.pdf)。\n",
    "\n",
    "Reinhard及其同事在本文中证明，通过利用L * a * b *颜色空间以及每个L *，a *和b *通道的均值和标准差，可以在两个图像之间转移颜色。\n",
    "\n",
    "该算法如下所示：\n",
    "\n",
    "- **步骤1：** 输入`source`和`target`。源图像包含您要`target`图像模仿的色彩空间。在此页面顶部的图中，左侧的日落图像是my `source`，中间的图像是my `target`，右侧的图像是`source`应用到的色彩空间`target`。\n",
    "- **步骤2：** 将`source`和`target`图像都转换为L * a * b *颜色空间。L * a * b *颜色空间模拟了感知均匀性，其中颜色值的微小变化也应该在颜色重要性上产生相对相等的变化。与标准RGB颜色空间相比，L * a * b *颜色空间在模仿人类如何解释颜色方面做得更好，并且您将看到，它在颜色转移方面效果很好。\n",
    "- **步骤3：** 分别为`source`和分配频道`target`。\n",
    "- **步骤4：** 为`source`和`target`图像计算每个L * a * b *通道的平均值和标准差。\n",
    "- **步骤5：**`target`从`target`通道中 减去图像的L * a * b *通道的平均值。\n",
    "- **步骤6：**`target` 按标准偏差`target`除以的标准偏差`source`乘以通道的比例来 缩放`target` 通道。\n",
    "- **步骤7：** 为加上L * a * b *通道的均值`source`。\n",
    "- **步骤8：** 裁剪掉*[0，255]*范围之外的所有值。（**注意：** 此步骤不是原始文章的一部分。由于OpenCV如何处理色彩空间转换，所以我添加了此步骤。如果要以其他语言/库实现此算法，则必须执行色彩空间转换您自己，或了解进行转换的库如何工作）。\n",
    "- **第9步：** 将频道合并在一起。\n",
    "- **步骤10：** 从L * a * b *空间转换回RGB颜色空间。"
   ]
  },
  {
   "cell_type": "code",
   "execution_count": 1,
   "metadata": {},
   "outputs": [],
   "source": [
    "import cv2\n",
    "import numpy as np\n",
    "\n",
    "def image_stats(image):\n",
    "    (l, a, b) = cv2.split(image)\n",
    "    (lMean, lStd) = (l.mean(), l.std())\n",
    "    (aMean, aStd) = (a.mean(), a.std())\n",
    "    (bMean, bStd) = (b.mean(), b.std())\n",
    "    \n",
    "    return (lMean, lStd, aMean, aStd, bMean, bStd)\n",
    "\n",
    "def color_transfer(source, target):\n",
    "    oldSource = cv2.imread(source)\n",
    "    oldTarget = cv2.imread(target)\n",
    "    \n",
    "    # 将图像从RGB转换为L * ab *颜色空间，即\n",
    "    # 确保使用浮点数据类型（注意：OpenCV\n",
    "    # 期望浮点数为32位，因此请使用浮点数而不是64位）\n",
    "    source = cv2.cvtColor(oldSource, cv2.COLOR_BGR2LAB).astype(\"float32\")\n",
    "    target = cv2.cvtColor(oldTarget, cv2.COLOR_BGR2LAB).astype(\"float32\")\n",
    "    \n",
    "    # 计算源图像和目标图像的颜色统计信息\n",
    "    (lMeanSrc, lStdSrc, aMeanSrc, aStdSrc, bMeanSrc, bStdSrc) = image_stats(source)\n",
    "    (lMeanTar, lStdTar, aMeanTar, aStdTar, bMeanTar, bStdTar) = image_stats(target)\n",
    "    \n",
    "    (l, a, b) = cv2.split(target)\n",
    "    l -= lMeanTar\n",
    "    a -= aMeanTar\n",
    "    b -= bMeanTar\n",
    "    \n",
    "    l = (lStdSrc / lStdTar) * l\n",
    "    a = (aStdSrc / aStdTar) * a\n",
    "    b = (bStdSrc / bStdTar) * b\n",
    "\n",
    "    l += lMeanSrc\n",
    "    a += aMeanSrc\n",
    "    b += bMeanSrc\n",
    "    \n",
    "    # 将超出[0，255]范围的像素值改为0或255\n",
    "    l = np.clip(l, 0, 255)\n",
    "    a = np.clip(a, 0, 255)\n",
    "    b = np.clip(b, 0, 255)\n",
    "    \n",
    "    # 将通道合并在一起并转换回RGB颜色\n",
    "    # 空间，请确保使用8位无符号整数数据类型\n",
    "    transfer = cv2.merge([l, a, b])\n",
    "    transfer = cv2.cvtColor(transfer.astype(\"uint8\"), cv2.COLOR_LAB2BGR)\n",
    "\n",
    "    cv2.imshow('Source', oldSource)\n",
    "    cv2.imshow('Target', oldTarget)\n",
    "    cv2.imshow('Transfer', transfer)\n",
    "    cv2.waitKey()\n",
    "    cv2.destroyAllWindows()\n",
    "    \n",
    "    return transfer"
   ]
  },
  {
   "cell_type": "code",
   "execution_count": 2,
   "metadata": {},
   "outputs": [],
   "source": [
    "transfer = color_transfer('ocean_sunset.jpg', 'ocean_day.jpg')"
   ]
  },
  {
   "cell_type": "code",
   "execution_count": 3,
   "metadata": {},
   "outputs": [],
   "source": [
    "transfer = color_transfer('ocean_day.jpg', 'ocean_sunset.jpg')"
   ]
  },
  {
   "cell_type": "code",
   "execution_count": 4,
   "metadata": {},
   "outputs": [],
   "source": [
    "transfer = color_transfer('autumn.jpg', 'fallingwater.jpg')"
   ]
  },
  {
   "cell_type": "code",
   "execution_count": 5,
   "metadata": {},
   "outputs": [],
   "source": [
    "transfer = color_transfer('fallingwater.jpg', 'autumn.jpg')"
   ]
  },
  {
   "cell_type": "code",
   "execution_count": 6,
   "metadata": {},
   "outputs": [],
   "source": [
    "transfer = color_transfer('woods.jpg', 'storm.jpg')"
   ]
  },
  {
   "cell_type": "code",
   "execution_count": 7,
   "metadata": {},
   "outputs": [],
   "source": [
    "transfer = color_transfer('storm.jpg', 'woods.jpg')"
   ]
  }
 ],
 "metadata": {
  "kernelspec": {
   "display_name": "Python 3",
   "language": "python",
   "name": "python3"
  },
  "language_info": {
   "codemirror_mode": {
    "name": "ipython",
    "version": 3
   },
   "file_extension": ".py",
   "mimetype": "text/x-python",
   "name": "python",
   "nbconvert_exporter": "python",
   "pygments_lexer": "ipython3",
   "version": "3.6.9"
  }
 },
 "nbformat": 4,
 "nbformat_minor": 4
}
