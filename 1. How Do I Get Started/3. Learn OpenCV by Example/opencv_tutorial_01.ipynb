{
 "cells": [
  {
   "cell_type": "markdown",
   "metadata": {},
   "source": [
    "### 加载并显示图像"
   ]
  },
  {
   "cell_type": "code",
   "execution_count": 1,
   "metadata": {},
   "outputs": [
    {
     "name": "stdout",
     "output_type": "stream",
     "text": [
      "<class 'numpy.ndarray'>\n",
      "width=600, height=322, depth=3\n"
     ]
    }
   ],
   "source": [
    "import cv2\n",
    "\n",
    "image = cv2.imread(\"jp.png\")\n",
    "# image是numpy数组\n",
    "print(type(image))\n",
    "# 高 x 宽 x 颜色通道数\n",
    "(h, w, d) = image.shape\n",
    "print(\"width={}, height={}, depth={}\".format(w, h, d))\n",
    "\n",
    "cv2.imshow(\"Image\", image)\n",
    "# 等待用户按键，delay表示等待毫秒数，传值0或不传值表示一直等待\n",
    "cv2.waitKey()\n",
    "cv2.destroyAllWindows()"
   ]
  },
  {
   "cell_type": "markdown",
   "metadata": {},
   "source": [
    "### 访问单个像素\n",
    "\n",
    "![RGB](opencv_tutorial_gradient_rgb.jpg)\n",
    "\n",
    "首先，您可能会问：\n",
    "\n",
    "> 什么是像素？\n",
    "\n",
    "所有图像都由像素组成，这些像素是图像的原始构建块。图像由网格中的像素组成。640 x 480图像具有640列（宽度）和480行（高度）。有 640 * 480 = 307200 具有这些尺寸的图像中的像素。\n",
    "\n",
    "\n",
    "灰度图像中的每个像素都有一个代表灰度的值。在OpenCV中，有256种灰度（从0到255）。因此，灰度图像将具有与每个像素关联的灰度值。\n",
    "\n",
    "彩色图像中的像素具有其他信息。在学习图像处理时，您很快就会熟悉几种颜色空间。为简单起见，我们仅考虑RGB颜色空间。\n",
    "\n",
    "在OpenCV彩色图像中，RGB（红色，绿色，蓝色）颜色空间中的每个像素都有一个三元组： （B，G，R ）。\n",
    "\n",
    "\n",
    "请注意，顺序是BGR而不是RGB。这是因为多年前首次开发OpenCV时，标准是BGR订购。多年来，标准现已成为RGB，但OpenCV仍保持这种“传统” BGR顺序以确保不存在现有代码中断。\n",
    "\n",
    "BGR 3元组中的每个值的范围为 [ 0 ，255 ] 。OpenCV中RGB图像中的每个像素有多少种颜色可能性？这很容易：256 * 256 * 256 = 16777216 。\n",
    "\n",
    "\n",
    "既然我们确切地知道什么是像素，让我们看看如何检索图像中单个像素的值："
   ]
  },
  {
   "cell_type": "code",
   "execution_count": 2,
   "metadata": {},
   "outputs": [
    {
     "name": "stdout",
     "output_type": "stream",
     "text": [
      "R=45, G=53, B=38\n"
     ]
    }
   ],
   "source": [
    "(B, G, R) = image[100, 50]\n",
    "print(\"R={}, G={}, B={}\".format(R, G, B))"
   ]
  },
  {
   "cell_type": "markdown",
   "metadata": {},
   "source": [
    "### 数组切片和裁剪\n",
    "\n",
    "提取“感兴趣区域”（ROI, regions of interest）是图像处理的一项重要技能。\n",
    "\n",
    "现在，让我们*手动*提取ROI。这可以通过数组切片来实现。"
   ]
  },
  {
   "cell_type": "code",
   "execution_count": 3,
   "metadata": {},
   "outputs": [],
   "source": [
    "roi = image[60:160, 320:420]\n",
    "cv2.imshow(\"ROI\", roi)\n",
    "cv2.waitKey()\n",
    "cv2.destroyAllWindows()"
   ]
  },
  {
   "cell_type": "markdown",
   "metadata": {},
   "source": [
    "### 调整图像大小"
   ]
  },
  {
   "cell_type": "code",
   "execution_count": 4,
   "metadata": {},
   "outputs": [],
   "source": [
    "# 忽略宽高比，将图片尺寸调整为200x200px\n",
    "resized = cv2.resize(image, (200, 200))\n",
    "cv2.imshow(\"Fixed Resizing\", resized)\n",
    "cv2.waitKey()\n",
    "cv2.destroyAllWindows()"
   ]
  },
  {
   "cell_type": "markdown",
   "metadata": {},
   "source": [
    "我们调整了忽略宽高比的图像的大小。显示图像已调整大小，但由于我们未考虑纵横比，因此现在已失真。\n",
    "让我们计算原始图像的长宽比，并使用它来调整图像的大小，以使其看起来不会变形和变形："
   ]
  },
  {
   "cell_type": "code",
   "execution_count": 5,
   "metadata": {},
   "outputs": [],
   "source": [
    "# 固定大小和扭曲宽高比，调整宽度为300px，根据宽高比计算新的高度\n",
    "r = 300.0 / w\n",
    "dim = (300, int(h * r))\n",
    "resized = cv2.resize(image, dim)\n",
    "cv2.imshow(\"Aspect Ratio Resize\", resized)\n",
    "cv2.waitKey()\n",
    "cv2.destroyAllWindows()"
   ]
  },
  {
   "cell_type": "markdown",
   "metadata": {},
   "source": [
    "### 旋转影像\n",
    "\n",
    "回忆一下中学/中学几何课中有关单位圆的信息，您将可以提醒自己，**正角是逆时针方向**，**负角是顺时针方向。**\n",
    "\n",
    "以左上角为原点，水平x轴，竖直y轴，旋转矩阵M\n",
    "\n",
    "旋转矩阵（以坐标原点为转轴逆时针旋转θ度）\n",
    "\n",
    "(x, y) 旋转后坐标为 M[:, :2] * [[x], [y]] \n",
    "\n",
    "[[cosθ, sinθ],\n",
    "\n",
    "[-sinθ, cosθ]]\n",
    "\n",
    "旋转矩阵（以点(x', y')为转轴逆时针旋转θ度）\n",
    "\n",
    "(x, y) 旋转后坐标为 M[:, :2] * [[x], [y]] + M[:, 2:]\n",
    "\n",
    "[[cosθ, sinθ, x'(1 - cosθ) - y' sinθ],\n",
    "\n",
    "[-sinθ, cosθ, x' sinθ + y'(1 - cosθ)]]\n",
    "\n",
    "旋转矩阵（以点(x', y')为转轴逆时针旋转θ度，以点(x', y')为中心，以scale为比例放缩）\n",
    "\n",
    "[[scale cosθ, scale sinθ, x'(1 - scale cosθ) - y' scale sinθ],\n",
    "\n",
    "[-scale sinθ, scale cosθ, x' scale sinθ + y'(1 - scale cosθ)]]"
   ]
  },
  {
   "cell_type": "code",
   "execution_count": 6,
   "metadata": {},
   "outputs": [],
   "source": [
    "center = (w // 2, h // 2)\n",
    "\n",
    "# 以图片中心点为转轴，顺时针旋转45度，放缩比例为1.0，得到旋转矩阵\n",
    "M = cv2.getRotationMatrix2D(center, -45, 1.0)\n",
    "\n",
    "# 将原图片像素坐标按照旋转矩阵做仿射运算，得到旋转后的像素坐标，并指定返回图片显示范围 [0 ~ w, 0 ~ h]\n",
    "rotated = cv2.warpAffine(image, M, (w, h))\n",
    "\n",
    "cv2.imshow(\"OpenCV Rotation\", rotated)\n",
    "cv2.waitKey()\n",
    "cv2.destroyAllWindows()"
   ]
  },
  {
   "cell_type": "markdown",
   "metadata": {},
   "source": [
    "### 平滑处理\n",
    "\n",
    "在许多图像处理管道中，我们必须对图像进行模糊处理以减少高频噪声，从而使我们的算法更容易检测和理解图像的实际*内容*，而不仅仅是 使“混淆”算法的*噪声*。在OpenCV中，对图像进行模糊处理非常容易，并且有多种方法可以完成图像处理。"
   ]
  },
  {
   "cell_type": "code",
   "execution_count": 7,
   "metadata": {},
   "outputs": [],
   "source": [
    "# 将具有11x11内核的高斯模糊应用于图像以使其平滑，\n",
    "# 在减少高频噪声时很有用\n",
    "blurred = cv2.GaussianBlur(image, (11, 11), 0)\n",
    "cv2.imshow(\"Blurred\", blurred)\n",
    "cv2.waitKey()\n",
    "cv2.destroyAllWindows()"
   ]
  },
  {
   "cell_type": "markdown",
   "metadata": {},
   "source": [
    "### 在图像上绘图\n",
    "\n",
    "在本节中，我们将在输入图像上绘制矩形，圆形和直线。我们还将在图像上覆盖文本。\n",
    "\n",
    "在继续使用OpenCV在图像上进行绘制之前，请注意，*在图像上进行绘制操作是就地执行的*。因此，在每个代码块的开头，我们制作原始图像的副本，并将副本存储为 output 。然后，我们继续绘制称为 output 就位，因此我们不会破坏原始图像。\n",
    "\n",
    "绘制一个矩形："
   ]
  },
  {
   "cell_type": "code",
   "execution_count": 8,
   "metadata": {},
   "outputs": [],
   "source": [
    "# 将变量复制作为副本\n",
    "output = image.copy()\n",
    "# 绘制指定矩形，参数包含 矩形两个不相邻的顶点坐标，线条颜色，线条宽度\n",
    "cv2.rectangle(output, (320, 60), (420, 160), (0, 0, 255), 2)\n",
    "cv2.imshow(\"Rectangle\", output)\n",
    "cv2.waitKey()\n",
    "cv2.destroyAllWindows()"
   ]
  },
  {
   "cell_type": "markdown",
   "metadata": {},
   "source": [
    "绘制一个圆："
   ]
  },
  {
   "cell_type": "code",
   "execution_count": 9,
   "metadata": {},
   "outputs": [],
   "source": [
    "output = image.copy()\n",
    "# 绘制指定圆，参数包含 圆心坐标，半径，线条颜色，线条宽度（-1表示实心）\n",
    "cv2.circle(output, (300, 150), 20, (255, 0, 0), -1)\n",
    "cv2.imshow(\"Circle\", output)\n",
    "cv2.waitKey()\n",
    "cv2.destroyAllWindows()"
   ]
  },
  {
   "cell_type": "markdown",
   "metadata": {},
   "source": [
    "绘制一条直线："
   ]
  },
  {
   "cell_type": "code",
   "execution_count": 10,
   "metadata": {},
   "outputs": [],
   "source": [
    "output = image.copy()\n",
    "# 绘制指定直线，参数包含 直线上两个不同的点坐标，线条颜色，线条宽度\n",
    "cv2.line(output, (60, 20), (400, 200), (0, 0, 255), 5)\n",
    "cv2.imshow(\"Line\", output)\n",
    "cv2.waitKey()\n",
    "cv2.destroyAllWindows()"
   ]
  },
  {
   "cell_type": "markdown",
   "metadata": {},
   "source": [
    "绘制文本："
   ]
  },
  {
   "cell_type": "code",
   "execution_count": 11,
   "metadata": {},
   "outputs": [],
   "source": [
    "output = image.copy()\n",
    "# 绘制文本，参数包含 文本内容，起点，字体，大小，颜色，粗细宽度\n",
    "cv2.putText(output, \"OpenCV + Jurassic Park!!!\", (10, 25), cv2.FONT_HERSHEY_SIMPLEX, 0.7, (0, 255, 0), 2)\n",
    "cv2.imshow(\"Text\", output)\n",
    "cv2.waitKey()\n",
    "cv2.destroyAllWindows()"
   ]
  }
 ],
 "metadata": {
  "kernelspec": {
   "display_name": "Python 3",
   "language": "python",
   "name": "python3"
  },
  "language_info": {
   "codemirror_mode": {
    "name": "ipython",
    "version": 3
   },
   "file_extension": ".py",
   "mimetype": "text/x-python",
   "name": "python",
   "nbconvert_exporter": "python",
   "pygments_lexer": "ipython3",
   "version": "3.6.9"
  }
 },
 "nbformat": 4,
 "nbformat_minor": 4
}
